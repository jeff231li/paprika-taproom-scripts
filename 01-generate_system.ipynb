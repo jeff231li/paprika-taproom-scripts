{
 "cells": [
  {
   "cell_type": "code",
   "execution_count": 1,
   "id": "12d84706",
   "metadata": {},
   "outputs": [
    {
     "data": {
      "application/vnd.jupyter.widget-view+json": {
       "model_id": "44e2d57ddabf42628087cc2ea8a4648c",
       "version_major": 2,
       "version_minor": 0
      },
      "text/plain": []
     },
     "metadata": {},
     "output_type": "display_data"
    }
   ],
   "source": [
    "import os\n",
    "import warnings\n",
    "\n",
    "warnings.filterwarnings(action=\"ignore\", category=FutureWarning)\n",
    "\n",
    "from openff.toolkit import ForceField\n",
    "from paprika.build.system.taproom import BuildTaproomAPR\n",
    "from pkg_resources import resource_filename\n",
    "from tqdm.auto import tqdm"
   ]
  },
  {
   "cell_type": "code",
   "execution_count": 2,
   "id": "38747de6",
   "metadata": {},
   "outputs": [],
   "source": [
    "%load_ext autoreload\n",
    "%autoreload 2"
   ]
  },
  {
   "cell_type": "code",
   "execution_count": 3,
   "id": "a4132e0a",
   "metadata": {},
   "outputs": [],
   "source": [
    "os.environ[\"INTERCHANGE_EXPERIMENTAL\"] = \"1\""
   ]
  },
  {
   "cell_type": "markdown",
   "id": "c98e2e54-ca1b-49a7-bc5e-46c83d090ba3",
   "metadata": {},
   "source": [
    "## Force Field Selection"
   ]
  },
  {
   "cell_type": "code",
   "execution_count": 4,
   "id": "30ca50f0",
   "metadata": {},
   "outputs": [],
   "source": [
    "# uncomment below to use implicit solvent\n",
    "# GBSA = resource_filename(\n",
    "#     \"openff.toolkit\",\n",
    "#     os.path.join(\"data\", \"test_forcefields\", \"GBSA_OBC2-1.0.offxml\"),\n",
    "# )\n",
    "# force_field = ForceField(\"openff-2.0.0.offxml\", GBSA)\n",
    "\n",
    "force_field = ForceField(\"openff-2.0.0.offxml\")"
   ]
  },
  {
   "cell_type": "markdown",
   "id": "ee110f34-e706-4cae-b07f-e53cea8a8be7",
   "metadata": {},
   "source": [
    "## Generating APR files for a single H-G pair"
   ]
  },
  {
   "cell_type": "code",
   "execution_count": 5,
   "id": "51a892a9-df8c-4a11-b9f4-e084c9375809",
   "metadata": {
    "tags": []
   },
   "outputs": [
    {
     "data": {
      "application/vnd.jupyter.widget-view+json": {
       "model_id": "10598c8362fe4a0aafe22672efa4d1c7",
       "version_major": 2,
       "version_minor": 0
      },
      "text/plain": [
       "  0%|          | 0/46 [00:00<?, ?it/s]"
      ]
     },
     "metadata": {},
     "output_type": "display_data"
    },
    {
     "data": {
      "application/vnd.jupyter.widget-view+json": {
       "model_id": "65de6856157c452ab5b03197f95f9f64",
       "version_major": 2,
       "version_minor": 0
      },
      "text/plain": [
       "  0%|          | 0/15 [00:00<?, ?it/s]"
      ]
     },
     "metadata": {},
     "output_type": "display_data"
    },
    {
     "data": {
      "application/vnd.jupyter.widget-view+json": {
       "model_id": "bf894076b5a04fea9d939e54c2de5132",
       "version_major": 2,
       "version_minor": 0
      },
      "text/plain": [
       "  0%|          | 0/46 [00:00<?, ?it/s]"
      ]
     },
     "metadata": {},
     "output_type": "display_data"
    },
    {
     "data": {
      "application/vnd.jupyter.widget-view+json": {
       "model_id": "52fc5c08a6a44642be02473fea7555d1",
       "version_major": 2,
       "version_minor": 0
      },
      "text/plain": [
       "  0%|          | 0/15 [00:00<?, ?it/s]"
      ]
     },
     "metadata": {},
     "output_type": "display_data"
    },
    {
     "data": {
      "application/vnd.jupyter.widget-view+json": {
       "model_id": "2f5514e26ebe4d45aad38c719446bc6e",
       "version_major": 2,
       "version_minor": 0
      },
      "text/plain": [
       "  0%|          | 0/15 [00:00<?, ?it/s]"
      ]
     },
     "metadata": {},
     "output_type": "display_data"
    },
    {
     "name": "stderr",
     "output_type": "stream",
     "text": [
      "WARNING:root:Encountered Structure, which does not store filename.\n",
      "WARNING:root:Encountered Structure, which does not store filename.\n",
      "WARNING:root:Encountered Structure, which does not store filename.\n",
      "WARNING:root:Encountered Structure, which does not store filename.\n",
      "WARNING:root:Encountered Structure, which does not store filename.\n",
      "WARNING:root:Encountered Structure, which does not store filename.\n"
     ]
    },
    {
     "data": {
      "application/vnd.jupyter.widget-view+json": {
       "model_id": "ba521ed467eb488c9de58cd0caabcc57",
       "version_major": 2,
       "version_minor": 0
      },
      "text/plain": [
       "  0%|          | 0/15 [00:00<?, ?it/s]"
      ]
     },
     "metadata": {},
     "output_type": "display_data"
    },
    {
     "name": "stderr",
     "output_type": "stream",
     "text": [
      "WARNING:root:Encountered Structure, which does not store filename.\n",
      "WARNING:root:Encountered Structure, which does not store filename.\n",
      "WARNING:root:Encountered Structure, which does not store filename.\n",
      "WARNING:root:Encountered Structure, which does not store filename.\n",
      "WARNING:root:Encountered Structure, which does not store filename.\n",
      "WARNING:root:Encountered Structure, which does not store filename.\n"
     ]
    },
    {
     "data": {
      "application/vnd.jupyter.widget-view+json": {
       "model_id": "17005724be5e4f44a85d6d5c3c068b30",
       "version_major": 2,
       "version_minor": 0
      },
      "text/plain": [
       "  0%|          | 0/15 [00:00<?, ?it/s]"
      ]
     },
     "metadata": {},
     "output_type": "display_data"
    },
    {
     "name": "stderr",
     "output_type": "stream",
     "text": [
      "WARNING:root:Encountered Structure, which does not store filename.\n",
      "WARNING:root:Encountered Structure, which does not store filename.\n",
      "WARNING:root:Encountered Structure, which does not store filename.\n",
      "WARNING:root:Encountered Structure, which does not store filename.\n",
      "WARNING:root:Encountered Structure, which does not store filename.\n",
      "WARNING:root:Encountered Structure, which does not store filename.\n"
     ]
    },
    {
     "data": {
      "application/vnd.jupyter.widget-view+json": {
       "model_id": "d6b70914315d40a6b6e48b2dc6f6f7ae",
       "version_major": 2,
       "version_minor": 0
      },
      "text/plain": [
       "  0%|          | 0/46 [00:00<?, ?it/s]"
      ]
     },
     "metadata": {},
     "output_type": "display_data"
    },
    {
     "name": "stderr",
     "output_type": "stream",
     "text": [
      "WARNING:root:Encountered Structure, which does not store filename.\n",
      "WARNING:root:Encountered Structure, which does not store filename.\n",
      "WARNING:root:Encountered Structure, which does not store filename.\n",
      "WARNING:root:Encountered Structure, which does not store filename.\n",
      "WARNING:root:Encountered Structure, which does not store filename.\n",
      "WARNING:root:Encountered Structure, which does not store filename.\n"
     ]
    },
    {
     "data": {
      "application/vnd.jupyter.widget-view+json": {
       "model_id": "56821aa7963044c2bc7fbd052c28e461",
       "version_major": 2,
       "version_minor": 0
      },
      "text/plain": [
       "  0%|          | 0/46 [00:00<?, ?it/s]"
      ]
     },
     "metadata": {},
     "output_type": "display_data"
    },
    {
     "name": "stderr",
     "output_type": "stream",
     "text": [
      "WARNING:root:Encountered Structure, which does not store filename.\n",
      "WARNING:root:Encountered Structure, which does not store filename.\n",
      "WARNING:root:Encountered Structure, which does not store filename.\n",
      "WARNING:root:Encountered Structure, which does not store filename.\n",
      "WARNING:root:Encountered Structure, which does not store filename.\n",
      "WARNING:root:Encountered Structure, which does not store filename.\n"
     ]
    },
    {
     "data": {
      "application/vnd.jupyter.widget-view+json": {
       "model_id": "4f3e88299d6247e19c790a5e7829f757",
       "version_major": 2,
       "version_minor": 0
      },
      "text/plain": [
       "  0%|          | 0/15 [00:00<?, ?it/s]"
      ]
     },
     "metadata": {},
     "output_type": "display_data"
    }
   ],
   "source": [
    "system = BuildTaproomAPR(\n",
    "    host_code=\"acd\",\n",
    "    guest_code=\"bam\",\n",
    "    n_water=None,\n",
    "    force_field=force_field,\n",
    "    disable_progress=False,\n",
    ")\n",
    "\n",
    "system.build_system(n_cpus=6)"
   ]
  },
  {
   "cell_type": "markdown",
   "id": "e10a7e4e-3894-4404-95d8-84b4d1be0bf8",
   "metadata": {},
   "source": [
    "## Generate APR files for multiple H-G pairs"
   ]
  },
  {
   "cell_type": "code",
   "execution_count": 6,
   "id": "7080b0b2-13e9-47b8-bba1-4c72bc73d08f",
   "metadata": {
    "tags": []
   },
   "outputs": [],
   "source": [
    "host_guest_codes = {\n",
    "    \"acd\": [\"bam\", \"cbu\", \"ham\"],\n",
    "    \"bcd\": [\"ben\", \"hex\", \"cbu\"],\n",
    "}"
   ]
  },
  {
   "cell_type": "code",
   "execution_count": 7,
   "id": "37d48c67-40c1-4de3-a7bb-3951ea6836af",
   "metadata": {
    "scrolled": true,
    "tags": []
   },
   "outputs": [
    {
     "data": {
      "application/vnd.jupyter.widget-view+json": {
       "model_id": "aae0223855e0478081000ca8f8864316",
       "version_major": 2,
       "version_minor": 0
      },
      "text/plain": [
       "Hosts:   0%|          | 0/2 [00:00<?, ?it/s]"
      ]
     },
     "metadata": {},
     "output_type": "display_data"
    },
    {
     "data": {
      "application/vnd.jupyter.widget-view+json": {
       "model_id": "628f1f31dd9c4137af227fa9fda2b8ae",
       "version_major": 2,
       "version_minor": 0
      },
      "text/plain": [
       "Guests:   0%|          | 0/3 [00:00<?, ?it/s]"
      ]
     },
     "metadata": {},
     "output_type": "display_data"
    },
    {
     "name": "stderr",
     "output_type": "stream",
     "text": [
      "WARNING:root:Encountered Structure, which does not store filename.\n",
      "WARNING:root:Encountered Structure, which does not store filename.\n",
      "WARNING:root:Encountered Structure, which does not store filename.\n",
      "WARNING:root:Encountered Structure, which does not store filename.\n",
      "WARNING:root:Encountered Structure, which does not store filename.\n",
      "WARNING:root:Encountered Structure, which does not store filename.\n",
      "WARNING:root:Encountered Structure, which does not store filename.\n",
      "WARNING:root:Encountered Structure, which does not store filename.\n",
      "WARNING:root:Encountered Structure, which does not store filename.\n",
      "WARNING:root:Encountered Structure, which does not store filename.\n",
      "WARNING:root:Encountered Structure, which does not store filename.\n",
      "WARNING:root:Encountered Structure, which does not store filename.\n",
      "WARNING:root:Encountered Structure, which does not store filename.\n",
      "WARNING:root:Encountered Structure, which does not store filename.\n",
      "WARNING:root:Encountered Structure, which does not store filename.\n",
      "WARNING:root:Encountered Structure, which does not store filename.\n",
      "WARNING:root:Encountered Structure, which does not store filename.\n",
      "WARNING:root:Encountered Structure, which does not store filename.\n",
      "WARNING:root:Encountered Structure, which does not store filename.\n",
      "WARNING:root:Encountered Structure, which does not store filename.\n",
      "WARNING:root:Encountered Structure, which does not store filename.\n",
      "WARNING:root:Encountered Structure, which does not store filename.\n",
      "WARNING:root:Encountered Structure, which does not store filename.\n",
      "WARNING:root:Encountered Structure, which does not store filename.\n",
      "WARNING:root:Encountered Structure, which does not store filename.\n",
      "WARNING:root:Encountered Structure, which does not store filename.\n",
      "WARNING:root:Encountered Structure, which does not store filename.\n",
      "WARNING:root:Encountered Structure, which does not store filename.\n",
      "WARNING:root:Encountered Structure, which does not store filename.\n",
      "WARNING:root:Encountered Structure, which does not store filename.\n",
      "WARNING:root:Encountered Structure, which does not store filename.\n",
      "WARNING:root:Encountered Structure, which does not store filename.\n",
      "WARNING:root:Encountered Structure, which does not store filename.\n",
      "WARNING:root:Encountered Structure, which does not store filename.\n",
      "WARNING:root:Encountered Structure, which does not store filename.\n",
      "WARNING:root:Encountered Structure, which does not store filename.\n",
      "WARNING:root:Encountered Structure, which does not store filename.\n",
      "WARNING:root:Encountered Structure, which does not store filename.\n",
      "WARNING:root:Encountered Structure, which does not store filename.\n",
      "WARNING:root:Encountered Structure, which does not store filename.\n",
      "WARNING:root:Encountered Structure, which does not store filename.\n",
      "WARNING:root:Encountered Structure, which does not store filename.\n",
      "WARNING:root:Encountered Structure, which does not store filename.\n",
      "WARNING:root:Encountered Structure, which does not store filename.\n",
      "WARNING:root:Encountered Structure, which does not store filename.\n",
      "WARNING:root:Encountered Structure, which does not store filename.\n",
      "WARNING:root:Encountered Structure, which does not store filename.\n",
      "WARNING:root:Encountered Structure, which does not store filename.\n",
      "WARNING:root:Encountered Structure, which does not store filename.\n",
      "WARNING:root:Encountered Structure, which does not store filename.\n",
      "WARNING:root:Encountered Structure, which does not store filename.\n",
      "WARNING:root:Encountered Structure, which does not store filename.\n",
      "WARNING:root:Encountered Structure, which does not store filename.\n",
      "WARNING:root:Encountered Structure, which does not store filename.\n",
      "WARNING:root:Encountered Structure, which does not store filename.\n",
      "WARNING:root:Encountered Structure, which does not store filename.\n",
      "WARNING:root:Encountered Structure, which does not store filename.\n",
      "WARNING:root:Encountered Structure, which does not store filename.\n",
      "WARNING:root:Encountered Structure, which does not store filename.\n",
      "WARNING:root:Encountered Structure, which does not store filename.\n",
      "WARNING:root:Encountered Structure, which does not store filename.\n",
      "WARNING:root:Encountered Structure, which does not store filename.\n",
      "WARNING:root:Encountered Structure, which does not store filename.\n",
      "WARNING:root:Encountered Structure, which does not store filename.\n",
      "WARNING:root:Encountered Structure, which does not store filename.\n",
      "WARNING:root:Encountered Structure, which does not store filename.\n",
      "WARNING:root:Encountered Structure, which does not store filename.\n",
      "WARNING:root:Encountered Structure, which does not store filename.\n",
      "WARNING:root:Encountered Structure, which does not store filename.\n",
      "WARNING:root:Encountered Structure, which does not store filename.\n",
      "WARNING:root:Encountered Structure, which does not store filename.\n",
      "WARNING:root:Encountered Structure, which does not store filename.\n",
      "WARNING:root:Encountered Structure, which does not store filename.\n",
      "WARNING:root:Encountered Structure, which does not store filename.\n",
      "WARNING:root:Encountered Structure, which does not store filename.\n",
      "WARNING:root:Encountered Structure, which does not store filename.\n",
      "WARNING:root:Encountered Structure, which does not store filename.\n",
      "WARNING:root:Encountered Structure, which does not store filename.\n",
      "WARNING:root:Encountered Structure, which does not store filename.\n",
      "WARNING:root:Encountered Structure, which does not store filename.\n",
      "WARNING:root:Encountered Structure, which does not store filename.\n",
      "WARNING:root:Encountered Structure, which does not store filename.\n",
      "WARNING:root:Encountered Structure, which does not store filename.\n",
      "WARNING:root:Encountered Structure, which does not store filename.\n",
      "WARNING:root:Encountered Structure, which does not store filename.\n",
      "WARNING:root:Encountered Structure, which does not store filename.\n",
      "WARNING:root:Encountered Structure, which does not store filename.\n",
      "WARNING:root:Encountered Structure, which does not store filename.\n",
      "WARNING:root:Encountered Structure, which does not store filename.\n",
      "WARNING:root:Encountered Structure, which does not store filename.\n"
     ]
    },
    {
     "data": {
      "application/vnd.jupyter.widget-view+json": {
       "model_id": "68fd1de891c24346bf81daa74c1cfab6",
       "version_major": 2,
       "version_minor": 0
      },
      "text/plain": [
       "Guests:   0%|          | 0/3 [00:00<?, ?it/s]"
      ]
     },
     "metadata": {},
     "output_type": "display_data"
    },
    {
     "name": "stderr",
     "output_type": "stream",
     "text": [
      "WARNING:root:Encountered Structure, which does not store filename.\n",
      "WARNING:root:Encountered Structure, which does not store filename.\n",
      "WARNING:root:Encountered Structure, which does not store filename.\n",
      "WARNING:root:Encountered Structure, which does not store filename.\n",
      "WARNING:root:Encountered Structure, which does not store filename.\n",
      "WARNING:root:Encountered Structure, which does not store filename.\n",
      "WARNING:root:Encountered Structure, which does not store filename.\n",
      "WARNING:root:Encountered Structure, which does not store filename.\n",
      "WARNING:root:Encountered Structure, which does not store filename.\n",
      "WARNING:root:Encountered Structure, which does not store filename.\n",
      "WARNING:root:Encountered Structure, which does not store filename.\n",
      "WARNING:root:Encountered Structure, which does not store filename.\n",
      "WARNING:root:Encountered Structure, which does not store filename.\n",
      "WARNING:root:Encountered Structure, which does not store filename.\n",
      "WARNING:root:Encountered Structure, which does not store filename.\n",
      "WARNING:root:Encountered Structure, which does not store filename.\n",
      "WARNING:root:Encountered Structure, which does not store filename.\n",
      "WARNING:root:Encountered Structure, which does not store filename.\n",
      "WARNING:root:Encountered Structure, which does not store filename.\n",
      "WARNING:root:Encountered Structure, which does not store filename.\n",
      "WARNING:root:Encountered Structure, which does not store filename.\n",
      "WARNING:root:Encountered Structure, which does not store filename.\n",
      "WARNING:root:Encountered Structure, which does not store filename.\n",
      "WARNING:root:Encountered Structure, which does not store filename.\n",
      "WARNING:root:Encountered Structure, which does not store filename.\n",
      "WARNING:root:Encountered Structure, which does not store filename.\n",
      "WARNING:root:Encountered Structure, which does not store filename.\n",
      "WARNING:root:Encountered Structure, which does not store filename.\n",
      "WARNING:root:Encountered Structure, which does not store filename.\n",
      "WARNING:root:Encountered Structure, which does not store filename.\n",
      "WARNING:root:Encountered Structure, which does not store filename.\n",
      "WARNING:root:Encountered Structure, which does not store filename.\n",
      "WARNING:root:Encountered Structure, which does not store filename.\n",
      "WARNING:root:Encountered Structure, which does not store filename.\n",
      "WARNING:root:Encountered Structure, which does not store filename.\n",
      "WARNING:root:Encountered Structure, which does not store filename.\n",
      "WARNING:root:Encountered Structure, which does not store filename.\n",
      "WARNING:root:Encountered Structure, which does not store filename.\n",
      "WARNING:root:Encountered Structure, which does not store filename.\n",
      "WARNING:root:Encountered Structure, which does not store filename.\n",
      "WARNING:root:Encountered Structure, which does not store filename.\n",
      "WARNING:root:Encountered Structure, which does not store filename.\n",
      "WARNING:root:Encountered Structure, which does not store filename.\n",
      "WARNING:root:Encountered Structure, which does not store filename.\n",
      "WARNING:root:Encountered Structure, which does not store filename.\n",
      "WARNING:root:Encountered Structure, which does not store filename.\n",
      "WARNING:root:Encountered Structure, which does not store filename.\n",
      "WARNING:root:Encountered Structure, which does not store filename.\n",
      "WARNING:root:Encountered Structure, which does not store filename.\n",
      "WARNING:root:Encountered Structure, which does not store filename.\n",
      "WARNING:root:Encountered Structure, which does not store filename.\n",
      "WARNING:root:Encountered Structure, which does not store filename.\n",
      "WARNING:root:Encountered Structure, which does not store filename.\n",
      "WARNING:root:Encountered Structure, which does not store filename.\n",
      "WARNING:root:Encountered Structure, which does not store filename.\n",
      "WARNING:root:Encountered Structure, which does not store filename.\n",
      "WARNING:root:Encountered Structure, which does not store filename.\n",
      "WARNING:root:Encountered Structure, which does not store filename.\n",
      "WARNING:root:Encountered Structure, which does not store filename.\n",
      "WARNING:root:Encountered Structure, which does not store filename.\n",
      "WARNING:root:Encountered Structure, which does not store filename.\n",
      "WARNING:root:Encountered Structure, which does not store filename.\n",
      "WARNING:root:Encountered Structure, which does not store filename.\n",
      "WARNING:root:Encountered Structure, which does not store filename.\n",
      "WARNING:root:Encountered Structure, which does not store filename.\n",
      "WARNING:root:Encountered Structure, which does not store filename.\n",
      "WARNING:root:Encountered Structure, which does not store filename.\n",
      "WARNING:root:Encountered Structure, which does not store filename.\n",
      "WARNING:root:Encountered Structure, which does not store filename.\n",
      "WARNING:root:Encountered Structure, which does not store filename.\n",
      "WARNING:root:Encountered Structure, which does not store filename.\n",
      "WARNING:root:Encountered Structure, which does not store filename.\n",
      "WARNING:root:Encountered Structure, which does not store filename.\n",
      "WARNING:root:Encountered Structure, which does not store filename.\n",
      "WARNING:root:Encountered Structure, which does not store filename.\n",
      "WARNING:root:Encountered Structure, which does not store filename.\n",
      "WARNING:root:Encountered Structure, which does not store filename.\n",
      "WARNING:root:Encountered Structure, which does not store filename.\n",
      "WARNING:root:Encountered Structure, which does not store filename.\n",
      "WARNING:root:Encountered Structure, which does not store filename.\n",
      "WARNING:root:Encountered Structure, which does not store filename.\n",
      "WARNING:root:Encountered Structure, which does not store filename.\n",
      "WARNING:root:Encountered Structure, which does not store filename.\n",
      "WARNING:root:Encountered Structure, which does not store filename.\n",
      "WARNING:root:Encountered Structure, which does not store filename.\n",
      "WARNING:root:Encountered Structure, which does not store filename.\n",
      "WARNING:root:Encountered Structure, which does not store filename.\n",
      "WARNING:root:Encountered Structure, which does not store filename.\n",
      "WARNING:root:Encountered Structure, which does not store filename.\n",
      "WARNING:root:Encountered Structure, which does not store filename.\n"
     ]
    }
   ],
   "source": [
    "%%capture --no-display\n",
    "\n",
    "for host in tqdm(host_guest_codes, desc=\"Hosts\"):\n",
    "    for guest in tqdm(host_guest_codes[host], desc=\"Guests\", leave=False):\n",
    "        system = BuildTaproomAPR(\n",
    "            host_code=host,\n",
    "            guest_code=guest,\n",
    "            n_water=None,\n",
    "            force_field=force_field,\n",
    "            build_folder=f\"{host}-{guest}/build_files\",\n",
    "            working_folder=f\"{host}-{guest}/simulations\",\n",
    "            disable_progress=True,\n",
    "        )\n",
    "\n",
    "        system.build_system(n_cpus=4)"
   ]
  },
  {
   "cell_type": "code",
   "execution_count": null,
   "id": "f4d3a849-4fd3-4039-9cf1-080cea10d778",
   "metadata": {},
   "outputs": [],
   "source": []
  }
 ],
 "metadata": {
  "kernelspec": {
   "display_name": "Python 3 (ipykernel)",
   "language": "python",
   "name": "python3"
  },
  "language_info": {
   "codemirror_mode": {
    "name": "ipython",
    "version": 3
   },
   "file_extension": ".py",
   "mimetype": "text/x-python",
   "name": "python",
   "nbconvert_exporter": "python",
   "pygments_lexer": "ipython3",
   "version": "3.10.11"
  }
 },
 "nbformat": 4,
 "nbformat_minor": 5
}
